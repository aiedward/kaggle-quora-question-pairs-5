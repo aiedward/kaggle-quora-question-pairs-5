{
 "cells": [
  {
   "cell_type": "code",
   "execution_count": 1,
   "metadata": {},
   "outputs": [
    {
     "name": "stderr",
     "output_type": "stream",
     "text": [
      "/home/ilivans/.virtualenvs/cmn3/lib/python3.5/site-packages/sklearn/cross_validation.py:44: DeprecationWarning: This module was deprecated in version 0.18 in favor of the model_selection module into which all the refactored classes and functions are moved. Also note that the interface of the new CV iterators are different from that of this module. This module will be removed in 0.20.\n",
      "  \"This module will be removed in 0.20.\", DeprecationWarning)\n"
     ]
    }
   ],
   "source": [
    "%load_ext autoreload\n",
    "%autoreload 2\n",
    "import argparse\n",
    "import functools\n",
    "from collections import defaultdict\n",
    "\n",
    "import numpy as np\n",
    "import pandas as pd\n",
    "import xgboost as xgb\n",
    "\n",
    "from nltk.corpus import stopwords\n",
    "from collections import Counter\n",
    "from sklearn.metrics import log_loss\n",
    "from sklearn.model_selection import train_test_split\n",
    "\n",
    "from xgboost import XGBClassifier\n",
    "import eli5"
   ]
  },
  {
   "cell_type": "code",
   "execution_count": 2,
   "metadata": {
    "collapsed": true
   },
   "outputs": [],
   "source": [
    "from final import *"
   ]
  },
  {
   "cell_type": "code",
   "execution_count": 3,
   "metadata": {
    "collapsed": true
   },
   "outputs": [],
   "source": [
    "a = 0.165 / 0.37\n",
    "b = (1 - 0.165) / (1 - 0.37)\n",
    "\n",
    "def fix_prob(x):\n",
    "    return a * x / (a * x + b * (1 - x))"
   ]
  },
  {
   "cell_type": "code",
   "execution_count": 4,
   "metadata": {
    "collapsed": true
   },
   "outputs": [],
   "source": [
    "df_train = pd.read_csv('data/train_features.csv', encoding=\"ISO-8859-1\")\n",
    "X_train_ab = df_train.iloc[:, 2:]\n",
    "# X_train_ab = X_train_ab.drop('euclidean_distance', axis=1)\n",
    "# X_train_ab = X_train_ab.drop('jaccard_distance', axis=1)"
   ]
  },
  {
   "cell_type": "code",
   "execution_count": 5,
   "metadata": {
    "collapsed": true
   },
   "outputs": [],
   "source": [
    "X_train_ab = X_train_ab.drop('jaccard_distance', axis=1)"
   ]
  },
  {
   "cell_type": "code",
   "execution_count": 6,
   "metadata": {},
   "outputs": [
    {
     "name": "stdout",
     "output_type": "stream",
     "text": [
      "CPU times: user 5min 17s, sys: 1.4 s, total: 5min 18s\n",
      "Wall time: 5min 19s\n"
     ]
    }
   ],
   "source": [
    "%%time\n",
    "df_train = pd.read_csv('data/train.csv')\n",
    "df_train = df_train.fillna(' ')\n",
    "\n",
    "df_test = pd.read_csv('data/test.csv')\n",
    "ques = pd.concat([df_train[['question1', 'question2']], \\\n",
    "                  df_test[['question1', 'question2']]], axis=0).reset_index(drop='index')\n",
    "q_dict = defaultdict(set)\n",
    "for i in range(ques.shape[0]):\n",
    "    q_dict[ques.question1[i]].add(ques.question2[i])\n",
    "    q_dict[ques.question2[i]].add(ques.question1[i])\n",
    "\n",
    "def q1_freq(row):\n",
    "    return (len(q_dict[row['question1']]))\n",
    "\n",
    "def q2_freq(row):\n",
    "    return (len(q_dict[row['question2']]))\n",
    "\n",
    "def q1_q2_intersect(row):\n",
    "    return (len(set(q_dict[row['question1']]).intersection(set(q_dict[row['question2']]))))\n",
    "\n",
    "df_train['q1_q2_intersect'] = df_train.apply(q1_q2_intersect, axis=1, raw=True)\n",
    "df_train['q1_freq'] = df_train.apply(q1_freq, axis=1, raw=True)\n",
    "df_train['q2_freq'] = df_train.apply(q2_freq, axis=1, raw=True)\n",
    "\n",
    "df_test['q1_q2_intersect'] = df_test.apply(q1_q2_intersect, axis=1, raw=True)\n",
    "df_test['q1_freq'] = df_test.apply(q1_freq, axis=1, raw=True)\n",
    "df_test['q2_freq'] = df_test.apply(q2_freq, axis=1, raw=True)\n",
    "\n",
    "test_leaky = df_test.loc[:, ['q1_q2_intersect', 'q1_freq', 'q2_freq']]\n",
    "del df_test\n",
    "\n",
    "train_leaky = df_train.loc[:, ['q1_q2_intersect', 'q1_freq', 'q2_freq']]"
   ]
  },
  {
   "cell_type": "code",
   "execution_count": 7,
   "metadata": {
    "collapsed": true
   },
   "outputs": [],
   "source": [
    "stops = set(stopwords.words(\"english\"))"
   ]
  },
  {
   "cell_type": "raw",
   "metadata": {},
   "source": [
    "import re\n",
    "from nltk.corpus import stopwords\n",
    "from nltk.stem import SnowballStemmer\n",
    "\n",
    "stemmer = SnowballStemmer('english')\n",
    "\n",
    "def text_to_wordlist(text, remove_stopwords=False, stem_words=False):\n",
    "    # Convert words to lower case and split them\n",
    "    text = str(text).lower()\n",
    "\n",
    "    # Clean the text\n",
    "    text = re.sub(r\"[^A-Za-z0-9']\", \" \", text)\n",
    "    text = re.sub(r\"what's\", \"\", text)\n",
    "    text = re.sub(r\"\\'s\", \" \", text)\n",
    "    text = re.sub(r\"\\'ve\", \" have \", text)\n",
    "    text = re.sub(r\"can't\", \"cannot \", text)\n",
    "    text = re.sub(r\"n't\", \" not \", text)\n",
    "    text = re.sub(r\"i'm\", \"i am\", text)\n",
    "    text = re.sub(r\" m \", \" am \", text)\n",
    "    text = re.sub(r\"\\'re\", \" are \", text)\n",
    "    text = re.sub(r\"\\'d\", \" would \", text)\n",
    "    text = re.sub(r\"\\'ll\", \" will \", text)\n",
    "    text = re.sub(r\"(\\d+)(k)\", r\"\\g<1>000\", text)\n",
    "    text = re.sub(r\" e g \", \" eg \", text)\n",
    "    text = re.sub(r\" b g \", \" bg \", text)\n",
    "    text = re.sub(r\"\\0s\", \"0\", text)\n",
    "    text = re.sub(r\" 9 11 \", \"911\", text)\n",
    "    text = re.sub(r\"e-mail\", \"email\", text)\n",
    "    \n",
    "    text = re.sub(r\"\\s{2,}\", \" \", text)\n",
    "    \n",
    "    text = re.sub(r\"quikly\", \"quickly\", text)\n",
    "    text = re.sub(r\" usa \", \" america \", text)\n",
    "    text = re.sub(r\" u s \", \" america \", text)\n",
    "    text = re.sub(r\" uk \", \" england \", text)\n",
    "    text = re.sub(r\"imrovement\", \"improvement\", text)\n",
    "    text = re.sub(r\"intially\", \"initially\", text)\n",
    "    text = re.sub(r\" dms \", \"direct messages \", text)\n",
    "    text = re.sub(r\"demonitization\", \"demonetization\", text)\n",
    "    text = re.sub(r\"actived\", \"active\", text)\n",
    "    text = re.sub(r\"kms\", \" kilometers \", text)\n",
    "    text = re.sub(r\" cs \", \" computer science \", text)\n",
    "    text = re.sub(r\" upvotes \", \" up votes \", text)\n",
    "    text = re.sub(r\" iphone \", \" phone \", text)\n",
    "    text = re.sub(r\"\\0rs \", \" rs \", text)\n",
    "    text = re.sub(r\"calender\", \"calendar\", text)\n",
    "    text = re.sub(r\"ios\", \"operating system\", text)\n",
    "    text = re.sub(r\"programing\", \"programming\", text)\n",
    "    text = re.sub(r\"bestfriend\", \"best friend\", text)\n",
    "    text = re.sub(r\"iii\", \"3\", text)\n",
    "    text = re.sub(r\"the us\", \"america\", text)\n",
    "    text = re.sub(r\" j k \", \" jk \", text)\n",
    "\n",
    "    text = text.split()\n",
    "    \n",
    "    if stem_words:\n",
    "        stemmed_words = [stemmer.stem(word) for word in text]\n",
    "        \n",
    "    if remove_stopwords:\n",
    "        text = [w for w in text if not w in stops]\n",
    "\n",
    "    return text"
   ]
  },
  {
   "cell_type": "code",
   "execution_count": 8,
   "metadata": {},
   "outputs": [
    {
     "name": "stdout",
     "output_type": "stream",
     "text": [
      "CPU times: user 3.65 s, sys: 164 ms, total: 3.82 s\n",
      "Wall time: 3.81 s\n"
     ]
    }
   ],
   "source": [
    "%%time\n",
    "df_train['question1'] = df_train['question1'].map(lambda x: str(x).lower().split())\n",
    "df_train['question2'] = df_train['question2'].map(lambda x: str(x).lower().split())\n",
    "# df_train['question1'] = df_train['question1'].map(text_to_wordlist)\n",
    "# df_train['question2'] = df_train['question2'].map(text_to_wordlist)\n",
    "\n",
    "train_qs = pd.Series(df_train['question1'].tolist() + df_train['question2'].tolist())\n",
    "\n",
    "words = [x for y in train_qs for x in y]\n",
    "counts = Counter(words)\n",
    "weights = {word: get_weight(count) for word, count in counts.items()}\n",
    "\n",
    "train_qs = pd.Series(df_train['question1'].tolist() + df_train['question2'].tolist())\n",
    "\n",
    "words = [x for y in train_qs for x in y]\n",
    "counts = Counter(words)\n",
    "weights = {word: get_weight(count) for word, count in counts.items()}"
   ]
  },
  {
   "cell_type": "code",
   "execution_count": 9,
   "metadata": {
    "collapsed": true
   },
   "outputs": [],
   "source": [
    "X_train_devil = pd.read_csv('data/train_devil.csv')\n",
    "X_train_pr = pd.read_csv('data/train_pagerank.csv')\n",
    "X_train_lda = pd.read_csv(\"data/train_lda_feat.csv\", encoding=\"ISO-8859-1\")\n",
    "X_train_lda = X_train_lda.iloc[:,6:]\n",
    "X_train_meph = pd.read_csv('data/mephistopheies_b_train.csv')\n",
    "X_train_lastwords = pd.read_csv('data/last_words_train.csv')\n",
    "X_train_stemmeph = pd.read_csv('data/stem_mephi_train.csv')\n",
    "X_train_stemwordmeph = pd.read_csv('data/stem_word_mephi_train.csv')\n",
    "X_train_kcores = pd.read_csv('data/kcores_train.csv')\n",
    "X_train_rest = pd.read_csv('data/mario_all_train.csv')\n",
    "X_train_rest = X_train_rest.drop(['q1_freq', 'q2_freq', 'q1_q2_intersect', 'kcore_dif'], axis=1)"
   ]
  },
  {
   "cell_type": "raw",
   "metadata": {},
   "source": [
    "X_train_lstm = pd.read_csv('/home/ilivans/projects/quora/data/lstm_300_600_0.30_0.30_06-05 21:43:56.csv')"
   ]
  },
  {
   "cell_type": "markdown",
   "metadata": {},
   "source": [
    "X_train_devil = X_train_devil.drop('devil_jaccard', axis=1)"
   ]
  },
  {
   "cell_type": "markdown",
   "metadata": {},
   "source": [
    "Build features"
   ]
  },
  {
   "cell_type": "code",
   "execution_count": 10,
   "metadata": {},
   "outputs": [
    {
     "name": "stderr",
     "output_type": "stream",
     "text": [
      "/home/ilivans/projects/quora/final.py:151: RuntimeWarning: invalid value encountered in double_scalars\n",
      "  R = np.sum(shared_weights) / np.sum(total_weights)\n"
     ]
    },
    {
     "name": "stdout",
     "output_type": "stream",
     "text": [
      "CPU times: user 2min 59s, sys: 516 ms, total: 2min 59s\n",
      "Wall time: 3min\n"
     ]
    }
   ],
   "source": [
    "%%time\n",
    "X_feat = build_features(df_train, stops, weights)"
   ]
  },
  {
   "cell_type": "code",
   "execution_count": 11,
   "metadata": {
    "collapsed": true
   },
   "outputs": [],
   "source": [
    "X = pd.concat((X_feat, X_train_ab, train_leaky,\n",
    "               X_train_devil, X_train_pr, X_train_lda, X_train_meph, X_train_lastwords,\n",
    "               X_train_stemmeph, X_train_stemwordmeph, X_train_kcores, X_train_rest), axis=1)\n",
    "y = df_train['is_duplicate'].values"
   ]
  },
  {
   "cell_type": "code",
   "execution_count": 12,
   "metadata": {},
   "outputs": [],
   "source": [
    "del X_train_devil, X_train_pr, X_train_lda, X_train_meph, X_train_lastwords, X_train_stemmeph,\\\n",
    "    X_train_stemwordmeph, X_train_kcores, X_train_rest"
   ]
  },
  {
   "cell_type": "code",
   "execution_count": 13,
   "metadata": {},
   "outputs": [],
   "source": [
    "X_train, X_valid, y_train, y_valid = train_test_split(X, y, test_size=0.1, random_state=17)"
   ]
  },
  {
   "cell_type": "code",
   "execution_count": 14,
   "metadata": {
    "collapsed": true
   },
   "outputs": [],
   "source": [
    "del X_train, X_valid, y_train, y_valid"
   ]
  },
  {
   "cell_type": "raw",
   "metadata": {},
   "source": [
    "np.save('train_idx', X_train.index.values)\n",
    "np.save('val_idx', X_valid.index.values)"
   ]
  },
  {
   "cell_type": "markdown",
   "metadata": {},
   "source": [
    "Generate samples."
   ]
  },
  {
   "cell_type": "raw",
   "metadata": {},
   "source": [
    "cols = X_train.columns.values\n",
    "dict(zip(range(len(cols)), cols))"
   ]
  },
  {
   "cell_type": "raw",
   "metadata": {},
   "source": [
    "X_train = pd.concat((X_train, X_train), axis=0)"
   ]
  },
  {
   "cell_type": "raw",
   "metadata": {},
   "source": [
    "def swap_cols(idx):\n",
    "    tmp = X_reversed.iloc[X_train.shape[0] // 2:,idx].values\n",
    "    X_reversed.iloc[X_train.shape[0] // 2:,idx] = X_reversed.iloc[X_train.shape[0] // 2:,idx + 1].values\n",
    "    X_reversed.iloc[X_train.shape[0] // 2:,idx + 1] = tmp\n",
    "    \n",
    "# X_reversed = X_train.copy()\n",
    "for col_idx in (16, 19, 21, 39, 41, 44, 47):\n",
    "    swap_cols(col_idx)"
   ]
  },
  {
   "cell_type": "raw",
   "metadata": {},
   "source": [
    "# X_train = pd.concat((X_train, X_reversed), axis=0)\n",
    "y_train = np.concatenate((y_train, y_train), axis=0)"
   ]
  },
  {
   "cell_type": "markdown",
   "metadata": {},
   "source": [
    "Build test features"
   ]
  },
  {
   "cell_type": "code",
   "execution_count": 15,
   "metadata": {},
   "outputs": [
    {
     "name": "stdout",
     "output_type": "stream",
     "text": [
      "CPU times: user 26 s, sys: 1.57 s, total: 27.6 s\n",
      "Wall time: 28.4 s\n"
     ]
    }
   ],
   "source": [
    "%%time\n",
    "df_test = pd.read_csv('data/test_features.csv', encoding=\"ISO-8859-1\")\n",
    "x_test_ab = df_test.iloc[:, 2:]\n",
    "# x_test_ab = x_test_ab.drop('euclidean_distance', axis=1)\n",
    "# x_test_ab = x_test_ab.drop('jaccard_distance', axis=1)\n",
    "\n",
    "df_test = pd.read_csv('data/test.csv')\n",
    "df_test = df_test.fillna(' ')\n",
    "\n",
    "df_test['question1'] = df_test['question1'].map(lambda x: str(x).lower().split())\n",
    "df_test['question2'] = df_test['question2'].map(lambda x: str(x).lower().split())\n",
    "# df_test['question1'] = df_test['question1'].map(text_to_wordlist)\n",
    "# df_test['question2'] = df_test['question2'].map(text_to_wordlist)"
   ]
  },
  {
   "cell_type": "code",
   "execution_count": 16,
   "metadata": {
    "collapsed": true
   },
   "outputs": [],
   "source": [
    "x_test_ab = x_test_ab.drop('jaccard_distance', axis=1)"
   ]
  },
  {
   "cell_type": "code",
   "execution_count": 17,
   "metadata": {},
   "outputs": [
    {
     "name": "stderr",
     "output_type": "stream",
     "text": [
      "/home/ilivans/projects/quora/final.py:151: RuntimeWarning: invalid value encountered in double_scalars\n",
      "  R = np.sum(shared_weights) / np.sum(total_weights)\n",
      "/home/ilivans/projects/quora/final.py:151: RuntimeWarning: invalid value encountered in long_scalars\n",
      "  R = np.sum(shared_weights) / np.sum(total_weights)\n"
     ]
    },
    {
     "name": "stdout",
     "output_type": "stream",
     "text": [
      "CPU times: user 17min 23s, sys: 1.4 s, total: 17min 24s\n",
      "Wall time: 17min 24s\n"
     ]
    }
   ],
   "source": [
    "%%time\n",
    "x_test_feat = build_features(df_test, stops, weights)"
   ]
  },
  {
   "cell_type": "code",
   "execution_count": 18,
   "metadata": {
    "collapsed": true
   },
   "outputs": [],
   "source": [
    "x_test_devil = pd.read_csv('data/test_devil.csv')\n",
    "x_test_pr = pd.read_csv('data/test_pagerank.csv')\n",
    "x_test_lda = pd.read_csv(\"data/test_lda_feat.csv\", encoding=\"ISO-8859-1\")\n",
    "x_test_lda = x_test_lda.iloc[:,3:]\n",
    "x_test_meph = pd.read_csv('data/mephistopheies_b_test.csv')\n",
    "x_test_lastwords = pd.read_csv('data/last_words_test.csv')\n",
    "x_test_stemmeph = pd.read_csv('data/stem_mephi_test.csv')\n",
    "x_test_stemwordmeph = pd.read_csv('data/stem_word_mephi_test.csv')\n",
    "x_test_kcores = pd.read_csv('data/kcores_test.csv')\n",
    "x_test_rest = pd.read_csv('data/mario_all_test.csv')\n",
    "x_test_rest = x_test_rest.drop(['q1_freq', 'q2_freq', 'q1_q2_intersect', 'kcore_dif'], axis=1)"
   ]
  },
  {
   "cell_type": "raw",
   "metadata": {},
   "source": [
    "x_test_lstm = pd.read_csv('/home/ilivans/projects/quora/submits_lstm/0.2888_lstm_300_600_0.30_0.30_06-05 21:43:56.csv')\n",
    "x_test_lstm['lstm_oof'] = x_test_lstm['is_duplicate']\n",
    "x_test_lstm = x_test_lstm[['lstm_oof']]"
   ]
  },
  {
   "cell_type": "raw",
   "metadata": {},
   "source": [
    "x_test_devil = x_test_devil.drop('devil_jaccard', axis=1)"
   ]
  },
  {
   "cell_type": "code",
   "execution_count": 19,
   "metadata": {},
   "outputs": [],
   "source": [
    "x_test = pd.concat((x_test_feat, x_test_ab, test_leaky,\n",
    "                    x_test_devil, x_test_pr, x_test_lda, x_test_meph, x_test_lastwords,\n",
    "                    x_test_stemmeph, x_test_stemwordmeph, x_test_kcores, x_test_rest), axis=1)"
   ]
  },
  {
   "cell_type": "code",
   "execution_count": 20,
   "metadata": {
    "collapsed": true
   },
   "outputs": [],
   "source": [
    "del x_test_devil, x_test_pr, x_test_lda, x_test_meph, x_test_lastwords, x_test_stemmeph,\\\n",
    "    x_test_stemwordmeph, x_test_kcores, x_test_rest"
   ]
  },
  {
   "cell_type": "code",
   "execution_count": 21,
   "metadata": {
    "collapsed": true
   },
   "outputs": [],
   "source": [
    "d_test = xgb.DMatrix(x_test)"
   ]
  },
  {
   "cell_type": "raw",
   "metadata": {},
   "source": [
    "X_train = X_train.drop(['devil_cos', 'devil_jaccard'], axis=1)\n",
    "X_valid = X_valid.drop(['devil_cos', 'devil_jaccard'], axis=1)\n",
    "x_test = x_test.drop(['devil_cos', 'devil_jaccard'], axis=1)\n",
    "d_test = xgb.DMatrix(x_test)"
   ]
  },
  {
   "cell_type": "code",
   "execution_count": 35,
   "metadata": {
    "scrolled": true
   },
   "outputs": [
    {
     "name": "stdout",
     "output_type": "stream",
     "text": [
      "[0]\ttrain-logloss:0.713267\tvalid-logloss:0.713306\n",
      "Multiple eval metrics have been passed: 'valid-logloss' will be used for early stopping.\n",
      "\n",
      "Will train until valid-logloss hasn't improved in 50 rounds.\n",
      "[200]\ttrain-logloss:0.232631\tvalid-logloss:0.239005\n",
      "[400]\ttrain-logloss:0.210479\tvalid-logloss:0.224151\n",
      "[600]\ttrain-logloss:0.196636\tvalid-logloss:0.218464\n",
      "[800]\ttrain-logloss:0.186463\tvalid-logloss:0.215533\n",
      "[1000]\ttrain-logloss:0.17812\tvalid-logloss:0.21378\n",
      "[1200]\ttrain-logloss:0.170811\tvalid-logloss:0.212577\n",
      "[1400]\ttrain-logloss:0.163896\tvalid-logloss:0.211703\n",
      "[1600]\ttrain-logloss:0.157735\tvalid-logloss:0.211067\n",
      "[1800]\ttrain-logloss:0.151867\tvalid-logloss:0.210523\n",
      "[2000]\ttrain-logloss:0.146313\tvalid-logloss:0.210143\n",
      "[2200]\ttrain-logloss:0.140885\tvalid-logloss:0.209799\n",
      "[2400]\ttrain-logloss:0.135637\tvalid-logloss:0.209502\n",
      "[2600]\ttrain-logloss:0.130748\tvalid-logloss:0.209337\n",
      "[2800]\ttrain-logloss:0.125902\tvalid-logloss:0.209118\n",
      "[3000]\ttrain-logloss:0.121293\tvalid-logloss:0.209008\n",
      "[3200]\ttrain-logloss:0.116814\tvalid-logloss:0.208939\n",
      "Stopping. Best iteration:\n",
      "[3151]\ttrain-logloss:0.11782\tvalid-logloss:0.208915\n",
      "\n",
      "0.208941546629\n",
      "[0]\ttrain-logloss:0.713266\tvalid-logloss:0.713337\n",
      "Multiple eval metrics have been passed: 'valid-logloss' will be used for early stopping.\n",
      "\n",
      "Will train until valid-logloss hasn't improved in 50 rounds.\n",
      "[200]\ttrain-logloss:0.232036\tvalid-logloss:0.240852\n",
      "[400]\ttrain-logloss:0.209261\tvalid-logloss:0.225588\n",
      "[600]\ttrain-logloss:0.195423\tvalid-logloss:0.220107\n",
      "[800]\ttrain-logloss:0.185686\tvalid-logloss:0.217569\n",
      "[1000]\ttrain-logloss:0.177253\tvalid-logloss:0.215914\n",
      "[1200]\ttrain-logloss:0.169937\tvalid-logloss:0.214858\n",
      "[1400]\ttrain-logloss:0.162982\tvalid-logloss:0.213949\n",
      "[1600]\ttrain-logloss:0.156376\tvalid-logloss:0.213312\n",
      "[1800]\ttrain-logloss:0.150182\tvalid-logloss:0.212723\n",
      "[2000]\ttrain-logloss:0.144493\tvalid-logloss:0.212312\n",
      "[2200]\ttrain-logloss:0.139072\tvalid-logloss:0.211996\n",
      "[2400]\ttrain-logloss:0.133908\tvalid-logloss:0.211757\n",
      "[2600]\ttrain-logloss:0.129054\tvalid-logloss:0.211591\n",
      "[2800]\ttrain-logloss:0.12443\tvalid-logloss:0.21141\n",
      "Stopping. Best iteration:\n",
      "[2934]\ttrain-logloss:0.121356\tvalid-logloss:0.211319\n",
      "\n",
      "0.211327262525\n",
      "[0]\ttrain-logloss:0.713236\tvalid-logloss:0.713347\n",
      "Multiple eval metrics have been passed: 'valid-logloss' will be used for early stopping.\n",
      "\n",
      "Will train until valid-logloss hasn't improved in 50 rounds.\n",
      "[200]\ttrain-logloss:0.23211\tvalid-logloss:0.239621\n",
      "[400]\ttrain-logloss:0.209889\tvalid-logloss:0.224273\n",
      "[600]\ttrain-logloss:0.19624\tvalid-logloss:0.218659\n",
      "[800]\ttrain-logloss:0.186167\tvalid-logloss:0.215772\n",
      "[1000]\ttrain-logloss:0.177749\tvalid-logloss:0.214006\n",
      "[1200]\ttrain-logloss:0.17019\tvalid-logloss:0.212827\n",
      "[1400]\ttrain-logloss:0.163283\tvalid-logloss:0.211918\n",
      "[1600]\ttrain-logloss:0.157092\tvalid-logloss:0.211265\n",
      "[1800]\ttrain-logloss:0.151003\tvalid-logloss:0.210737\n",
      "[2000]\ttrain-logloss:0.145289\tvalid-logloss:0.210335\n",
      "[2200]\ttrain-logloss:0.14006\tvalid-logloss:0.209992\n",
      "[2400]\ttrain-logloss:0.134869\tvalid-logloss:0.209699\n",
      "[2600]\ttrain-logloss:0.129983\tvalid-logloss:0.209463\n",
      "[2800]\ttrain-logloss:0.125213\tvalid-logloss:0.209228\n",
      "[3000]\ttrain-logloss:0.120635\tvalid-logloss:0.209136\n",
      "Stopping. Best iteration:\n",
      "[2995]\ttrain-logloss:0.120745\tvalid-logloss:0.209127\n",
      "\n",
      "0.209152896302\n",
      "[0]\ttrain-logloss:0.713259\tvalid-logloss:0.713305\n",
      "Multiple eval metrics have been passed: 'valid-logloss' will be used for early stopping.\n",
      "\n",
      "Will train until valid-logloss hasn't improved in 50 rounds.\n",
      "[200]\ttrain-logloss:0.232534\tvalid-logloss:0.238949\n",
      "[400]\ttrain-logloss:0.210422\tvalid-logloss:0.223725\n",
      "[600]\ttrain-logloss:0.196804\tvalid-logloss:0.218201\n",
      "[800]\ttrain-logloss:0.186635\tvalid-logloss:0.215355\n",
      "[1000]\ttrain-logloss:0.178165\tvalid-logloss:0.213512\n",
      "[1200]\ttrain-logloss:0.170798\tvalid-logloss:0.212347\n",
      "[1400]\ttrain-logloss:0.163643\tvalid-logloss:0.211414\n",
      "[1600]\ttrain-logloss:0.157295\tvalid-logloss:0.210699\n",
      "[1800]\ttrain-logloss:0.151519\tvalid-logloss:0.210138\n",
      "[2000]\ttrain-logloss:0.145753\tvalid-logloss:0.209722\n",
      "[2200]\ttrain-logloss:0.140376\tvalid-logloss:0.20932\n",
      "[2400]\ttrain-logloss:0.135362\tvalid-logloss:0.209033\n",
      "[2600]\ttrain-logloss:0.130414\tvalid-logloss:0.208786\n",
      "[2800]\ttrain-logloss:0.125727\tvalid-logloss:0.208582\n",
      "[3000]\ttrain-logloss:0.121358\tvalid-logloss:0.208432\n",
      "[3200]\ttrain-logloss:0.116963\tvalid-logloss:0.20826\n",
      "Stopping. Best iteration:\n",
      "[3290]\ttrain-logloss:0.115096\tvalid-logloss:0.208201\n",
      "\n",
      "0.208250133036\n"
     ]
    }
   ],
   "source": [
    "from sklearn.model_selection import StratifiedKFold\n",
    "\n",
    "skf = StratifiedKFold(n_splits=4, shuffle=True, random_state=18)\n",
    "\n",
    "params = {}\n",
    "params['objective'] = 'binary:logistic'\n",
    "params['eval_metric'] = 'logloss'\n",
    "params['eta'] = 0.02\n",
    "params['max_depth'] = 7\n",
    "params['subsample'] = 0.75\n",
    "params['base_score'] = 0.2\n",
    "\n",
    "params['colsample_bytree'] = 1\n",
    "params['colsample_bylevel'] = 1\n",
    "params['n_jobs'] = -1\n",
    "\n",
    "for i, (train_index, test_index) in enumerate(skf.split(X, y)):\n",
    "    X_tr, X_val = X.iloc[train_index], X.iloc[test_index]\n",
    "    y_tr, y_val = y[train_index], y[test_index]\n",
    "    \n",
    "    d_train = xgb.DMatrix(X_tr, label=y_tr)\n",
    "    d_valid = xgb.DMatrix(X_val, label=y_val)\n",
    "\n",
    "    watchlist = [(d_train, 'train'), (d_valid, 'valid')]\n",
    "\n",
    "    bst = xgb.train(params, d_train, 5000, watchlist, early_stopping_rounds=50, verbose_eval=200)\n",
    "    val_loss = log_loss(y_val, bst.predict(d_valid))\n",
    "    print(val_loss)\n",
    "    \n",
    "    p_test = bst.predict(d_test)\n",
    "    sub = pd.DataFrame()\n",
    "    sub['test_id'] = df_test['test_id']\n",
    "    sub['is_duplicate'] = fix_prob(p_test)\n",
    "    sub.to_csv('predictions/4fold_rs18_{}_{:.5f}.csv'.format(i, val_loss), index=False)"
   ]
  },
  {
   "cell_type": "markdown",
   "metadata": {},
   "source": [
    "# RF"
   ]
  },
  {
   "cell_type": "code",
   "execution_count": 22,
   "metadata": {
    "collapsed": true
   },
   "outputs": [],
   "source": [
    "X_rf = X.fillna(X.mean())\n",
    "X_rf = X_rf.replace(np.inf, 1e30)"
   ]
  },
  {
   "cell_type": "code",
   "execution_count": 23,
   "metadata": {},
   "outputs": [
    {
     "name": "stderr",
     "output_type": "stream",
     "text": [
      "[Parallel(n_jobs=-1)]: Done  26 tasks      | elapsed:   19.2s\n",
      "[Parallel(n_jobs=-1)]: Done 176 tasks      | elapsed:  1.7min\n",
      "[Parallel(n_jobs=-1)]: Done 426 tasks      | elapsed:  4.1min\n",
      "[Parallel(n_jobs=-1)]: Done 776 tasks      | elapsed:  7.3min\n",
      "[Parallel(n_jobs=-1)]: Done 1226 tasks      | elapsed: 11.5min\n",
      "[Parallel(n_jobs=-1)]: Done 1500 out of 1500 | elapsed: 14.0min finished\n"
     ]
    }
   ],
   "source": [
    "from sklearn.ensemble import RandomForestClassifier as RF\n",
    "\n",
    "rf = RF(n_estimators=1500, criterion='gini',\n",
    "        max_depth=None, min_samples_split=2, min_samples_leaf=1, min_impurity_split=1e-07,\n",
    "        warm_start=True,\n",
    "        n_jobs=-1, random_state=17, verbose=1)\n",
    "\n",
    "rf.fit(X_rf, y);"
   ]
  },
  {
   "cell_type": "code",
   "execution_count": 27,
   "metadata": {
    "collapsed": true
   },
   "outputs": [],
   "source": [
    "x_test_rf = x_test.fillna(x_test.mean())\n",
    "x_test_rf = x_test_rf.replace(np.inf, 1e30)"
   ]
  },
  {
   "cell_type": "code",
   "execution_count": 32,
   "metadata": {},
   "outputs": [],
   "source": [
    "p_test = rf.predict_proba(x_test_rf)\n",
    "sub = pd.DataFrame()\n",
    "sub['test_id'] = df_test['test_id']\n",
    "sub['is_duplicate'] = fix_prob(p_test[:,1])\n",
    "sub.to_csv('predictions/rf.csv', index=False)"
   ]
  },
  {
   "cell_type": "code",
   "execution_count": 33,
   "metadata": {
    "collapsed": true
   },
   "outputs": [],
   "source": [
    "del X_rf, x_test_rf, rf"
   ]
  },
  {
   "cell_type": "markdown",
   "metadata": {},
   "source": [
    "---"
   ]
  },
  {
   "cell_type": "markdown",
   "metadata": {},
   "source": [
    "Train model"
   ]
  },
  {
   "cell_type": "code",
   "execution_count": 291,
   "metadata": {
    "scrolled": true
   },
   "outputs": [
    {
     "name": "stdout",
     "output_type": "stream",
     "text": [
      "[0]\ttrain-logloss:0.71398\tvalid-logloss:0.706504\n",
      "Multiple eval metrics have been passed: 'valid-logloss' will be used for early stopping.\n",
      "\n",
      "Will train until valid-logloss hasn't improved in 100 rounds.\n",
      "[100]\ttrain-logloss:0.271359\tvalid-logloss:0.27654\n",
      "[200]\ttrain-logloss:0.233244\tvalid-logloss:0.241401\n"
     ]
    },
    {
     "ename": "KeyboardInterrupt",
     "evalue": "",
     "traceback": [
      "\u001b[0;31m---------------------------------------------------------------------------\u001b[0m",
      "\u001b[0;31mKeyboardInterrupt\u001b[0m                         Traceback (most recent call last)",
      "\u001b[0;32m<ipython-input-291-19d4de90b231>\u001b[0m in \u001b[0;36m<module>\u001b[0;34m()\u001b[0m\n\u001b[1;32m     17\u001b[0m \u001b[0mwatchlist\u001b[0m \u001b[0;34m=\u001b[0m \u001b[0;34m[\u001b[0m\u001b[0;34m(\u001b[0m\u001b[0md_train\u001b[0m\u001b[0;34m,\u001b[0m \u001b[0;34m'train'\u001b[0m\u001b[0;34m)\u001b[0m\u001b[0;34m,\u001b[0m \u001b[0;34m(\u001b[0m\u001b[0md_valid\u001b[0m\u001b[0;34m,\u001b[0m \u001b[0;34m'valid'\u001b[0m\u001b[0;34m)\u001b[0m\u001b[0;34m]\u001b[0m\u001b[0;34m\u001b[0m\u001b[0m\n\u001b[1;32m     18\u001b[0m \u001b[0;34m\u001b[0m\u001b[0m\n\u001b[0;32m---> 19\u001b[0;31m \u001b[0mbst\u001b[0m \u001b[0;34m=\u001b[0m \u001b[0mxgb\u001b[0m\u001b[0;34m.\u001b[0m\u001b[0mtrain\u001b[0m\u001b[0;34m(\u001b[0m\u001b[0mparams\u001b[0m\u001b[0;34m,\u001b[0m \u001b[0md_train\u001b[0m\u001b[0;34m,\u001b[0m \u001b[0;36m5000\u001b[0m\u001b[0;34m,\u001b[0m \u001b[0mwatchlist\u001b[0m\u001b[0;34m,\u001b[0m \u001b[0mearly_stopping_rounds\u001b[0m\u001b[0;34m=\u001b[0m\u001b[0;36m100\u001b[0m\u001b[0;34m,\u001b[0m \u001b[0mverbose_eval\u001b[0m\u001b[0;34m=\u001b[0m\u001b[0;36m100\u001b[0m\u001b[0;34m)\u001b[0m\u001b[0;34m\u001b[0m\u001b[0m\n\u001b[0m\u001b[1;32m     20\u001b[0m \u001b[0mprint\u001b[0m\u001b[0;34m(\u001b[0m\u001b[0mlog_loss\u001b[0m\u001b[0;34m(\u001b[0m\u001b[0my_valid\u001b[0m\u001b[0;34m,\u001b[0m \u001b[0mbst\u001b[0m\u001b[0;34m.\u001b[0m\u001b[0mpredict\u001b[0m\u001b[0;34m(\u001b[0m\u001b[0md_valid\u001b[0m\u001b[0;34m)\u001b[0m\u001b[0;34m)\u001b[0m\u001b[0;34m)\u001b[0m\u001b[0;34m\u001b[0m\u001b[0m\n\u001b[1;32m     21\u001b[0m \u001b[0;31m# bst.save_model('xgb.mdl')\u001b[0m\u001b[0;34m\u001b[0m\u001b[0;34m\u001b[0m\u001b[0m\n",
      "\u001b[0;32m~/.virtualenvs/cmn3/lib/python3.5/site-packages/xgboost/training.py\u001b[0m in \u001b[0;36mtrain\u001b[0;34m(params, dtrain, num_boost_round, evals, obj, feval, maximize, early_stopping_rounds, evals_result, verbose_eval, learning_rates, xgb_model, callbacks)\u001b[0m\n\u001b[1;32m    203\u001b[0m                            \u001b[0mevals\u001b[0m\u001b[0;34m=\u001b[0m\u001b[0mevals\u001b[0m\u001b[0;34m,\u001b[0m\u001b[0;34m\u001b[0m\u001b[0m\n\u001b[1;32m    204\u001b[0m                            \u001b[0mobj\u001b[0m\u001b[0;34m=\u001b[0m\u001b[0mobj\u001b[0m\u001b[0;34m,\u001b[0m \u001b[0mfeval\u001b[0m\u001b[0;34m=\u001b[0m\u001b[0mfeval\u001b[0m\u001b[0;34m,\u001b[0m\u001b[0;34m\u001b[0m\u001b[0m\n\u001b[0;32m--> 205\u001b[0;31m                            xgb_model=xgb_model, callbacks=callbacks)\n\u001b[0m\u001b[1;32m    206\u001b[0m \u001b[0;34m\u001b[0m\u001b[0m\n\u001b[1;32m    207\u001b[0m \u001b[0;34m\u001b[0m\u001b[0m\n",
      "\u001b[0;32m~/.virtualenvs/cmn3/lib/python3.5/site-packages/xgboost/training.py\u001b[0m in \u001b[0;36m_train_internal\u001b[0;34m(params, dtrain, num_boost_round, evals, obj, feval, xgb_model, callbacks)\u001b[0m\n\u001b[1;32m     74\u001b[0m         \u001b[0;31m# Skip the first update if it is a recovery step.\u001b[0m\u001b[0;34m\u001b[0m\u001b[0;34m\u001b[0m\u001b[0m\n\u001b[1;32m     75\u001b[0m         \u001b[0;32mif\u001b[0m \u001b[0mversion\u001b[0m \u001b[0;34m%\u001b[0m \u001b[0;36m2\u001b[0m \u001b[0;34m==\u001b[0m \u001b[0;36m0\u001b[0m\u001b[0;34m:\u001b[0m\u001b[0;34m\u001b[0m\u001b[0m\n\u001b[0;32m---> 76\u001b[0;31m             \u001b[0mbst\u001b[0m\u001b[0;34m.\u001b[0m\u001b[0mupdate\u001b[0m\u001b[0;34m(\u001b[0m\u001b[0mdtrain\u001b[0m\u001b[0;34m,\u001b[0m \u001b[0mi\u001b[0m\u001b[0;34m,\u001b[0m \u001b[0mobj\u001b[0m\u001b[0;34m)\u001b[0m\u001b[0;34m\u001b[0m\u001b[0m\n\u001b[0m\u001b[1;32m     77\u001b[0m             \u001b[0mbst\u001b[0m\u001b[0;34m.\u001b[0m\u001b[0msave_rabit_checkpoint\u001b[0m\u001b[0;34m(\u001b[0m\u001b[0;34m)\u001b[0m\u001b[0;34m\u001b[0m\u001b[0m\n\u001b[1;32m     78\u001b[0m             \u001b[0mversion\u001b[0m \u001b[0;34m+=\u001b[0m \u001b[0;36m1\u001b[0m\u001b[0;34m\u001b[0m\u001b[0m\n",
      "\u001b[0;32m~/.virtualenvs/cmn3/lib/python3.5/site-packages/xgboost/core.py\u001b[0m in \u001b[0;36mupdate\u001b[0;34m(self, dtrain, iteration, fobj)\u001b[0m\n\u001b[1;32m    804\u001b[0m \u001b[0;34m\u001b[0m\u001b[0m\n\u001b[1;32m    805\u001b[0m         \u001b[0;32mif\u001b[0m \u001b[0mfobj\u001b[0m \u001b[0;32mis\u001b[0m \u001b[0;32mNone\u001b[0m\u001b[0;34m:\u001b[0m\u001b[0;34m\u001b[0m\u001b[0m\n\u001b[0;32m--> 806\u001b[0;31m             \u001b[0m_check_call\u001b[0m\u001b[0;34m(\u001b[0m\u001b[0m_LIB\u001b[0m\u001b[0;34m.\u001b[0m\u001b[0mXGBoosterUpdateOneIter\u001b[0m\u001b[0;34m(\u001b[0m\u001b[0mself\u001b[0m\u001b[0;34m.\u001b[0m\u001b[0mhandle\u001b[0m\u001b[0;34m,\u001b[0m \u001b[0miteration\u001b[0m\u001b[0;34m,\u001b[0m \u001b[0mdtrain\u001b[0m\u001b[0;34m.\u001b[0m\u001b[0mhandle\u001b[0m\u001b[0;34m)\u001b[0m\u001b[0;34m)\u001b[0m\u001b[0;34m\u001b[0m\u001b[0m\n\u001b[0m\u001b[1;32m    807\u001b[0m         \u001b[0;32melse\u001b[0m\u001b[0;34m:\u001b[0m\u001b[0;34m\u001b[0m\u001b[0m\n\u001b[1;32m    808\u001b[0m             \u001b[0mpred\u001b[0m \u001b[0;34m=\u001b[0m \u001b[0mself\u001b[0m\u001b[0;34m.\u001b[0m\u001b[0mpredict\u001b[0m\u001b[0;34m(\u001b[0m\u001b[0mdtrain\u001b[0m\u001b[0;34m)\u001b[0m\u001b[0;34m\u001b[0m\u001b[0m\n",
      "\u001b[0;31mKeyboardInterrupt\u001b[0m: "
     ],
     "output_type": "error"
    }
   ],
   "source": [
    "params = {}\n",
    "params['objective'] = 'binary:logistic'\n",
    "params['eval_metric'] = 'logloss'\n",
    "params['eta'] = 0.02\n",
    "params['max_depth'] = 7\n",
    "params['subsample'] = 0.75\n",
    "params['base_score'] = 0.2\n",
    "\n",
    "params['colsample_bytree'] = 1\n",
    "params['colsample_bylevel'] = 1\n",
    "params['n_jobs'] = -1\n",
    "\n",
    "param['updater'] = 'grow_gpu' \n",
    "\n",
    "d_train = xgb.DMatrix(X_train, label=y_train)\n",
    "d_valid = xgb.DMatrix(X_valid, label=y_valid)\n",
    "\n",
    "watchlist = [(d_train, 'train'), (d_valid, 'valid')]\n",
    "\n",
    "bst = xgb.train(params, d_train, 5000, watchlist, early_stopping_rounds=100, verbose_eval=100)\n",
    "print(log_loss(y_valid, bst.predict(d_valid)))\n",
    "# bst.save_model('xgb.mdl')"
   ]
  },
  {
   "cell_type": "code",
   "execution_count": 288,
   "metadata": {},
   "outputs": [
    {
     "data": {
      "text/html": [
       "\n",
       "    <style>\n",
       "    table.eli5-weights tr:hover {\n",
       "        filter: brightness(85%);\n",
       "    }\n",
       "</style>\n",
       "\n",
       "\n",
       "\n",
       "    \n",
       "\n",
       "    \n",
       "\n",
       "    \n",
       "\n",
       "    \n",
       "\n",
       "    \n",
       "\n",
       "    \n",
       "\n",
       "\n",
       "    \n",
       "\n",
       "    \n",
       "\n",
       "    \n",
       "\n",
       "    \n",
       "\n",
       "    \n",
       "\n",
       "    \n",
       "\n",
       "\n",
       "    \n",
       "\n",
       "    \n",
       "\n",
       "    \n",
       "\n",
       "    \n",
       "\n",
       "    \n",
       "        <table class=\"eli5-weights eli5-feature-importances\" style=\"border-collapse: collapse; border: none; margin-top: 0em; table-layout: auto;\">\n",
       "            <thead>\n",
       "            <tr style=\"border: none;\">\n",
       "                <th style=\"padding: 0 1em 0 0.5em; text-align: right; border: none;\">Weight</th>\n",
       "                <th style=\"padding: 0 0.5em 0 0.5em; text-align: left; border: none;\">Feature</th>\n",
       "            </tr>\n",
       "            </thead>\n",
       "            <tbody>\n",
       "            \n",
       "                <tr style=\"background-color: hsl(120, 100.00%, 80.00%); border: none;\">\n",
       "                    <td style=\"padding: 0 1em 0 0.5em; text-align: right; border: none;\">\n",
       "                        0.2313\n",
       "                        \n",
       "                    </td>\n",
       "                    <td style=\"padding: 0 0.5em 0 0.5em; text-align: left; border: none;\">\n",
       "                        devil_cos\n",
       "                    </td>\n",
       "                </tr>\n",
       "            \n",
       "                <tr style=\"background-color: hsl(120, 100.00%, 88.98%); border: none;\">\n",
       "                    <td style=\"padding: 0 1em 0 0.5em; text-align: right; border: none;\">\n",
       "                        0.0987\n",
       "                        \n",
       "                    </td>\n",
       "                    <td style=\"padding: 0 0.5em 0 0.5em; text-align: left; border: none;\">\n",
       "                        q1_q2_intersect\n",
       "                    </td>\n",
       "                </tr>\n",
       "            \n",
       "                <tr style=\"background-color: hsl(120, 100.00%, 89.08%); border: none;\">\n",
       "                    <td style=\"padding: 0 1em 0 0.5em; text-align: right; border: none;\">\n",
       "                        0.0974\n",
       "                        \n",
       "                    </td>\n",
       "                    <td style=\"padding: 0 0.5em 0 0.5em; text-align: left; border: none;\">\n",
       "                        devil_jaccard\n",
       "                    </td>\n",
       "                </tr>\n",
       "            \n",
       "                <tr style=\"background-color: hsl(120, 100.00%, 89.33%); border: none;\">\n",
       "                    <td style=\"padding: 0 1em 0 0.5em; text-align: right; border: none;\">\n",
       "                        0.0943\n",
       "                        \n",
       "                    </td>\n",
       "                    <td style=\"padding: 0 0.5em 0 0.5em; text-align: left; border: none;\">\n",
       "                        word_match\n",
       "                    </td>\n",
       "                </tr>\n",
       "            \n",
       "                <tr style=\"background-color: hsl(120, 100.00%, 95.50%); border: none;\">\n",
       "                    <td style=\"padding: 0 1em 0 0.5em; text-align: right; border: none;\">\n",
       "                        0.0275\n",
       "                        \n",
       "                    </td>\n",
       "                    <td style=\"padding: 0 0.5em 0 0.5em; text-align: left; border: none;\">\n",
       "                        kcore_min\n",
       "                    </td>\n",
       "                </tr>\n",
       "            \n",
       "                <tr style=\"background-color: hsl(120, 100.00%, 96.73%); border: none;\">\n",
       "                    <td style=\"padding: 0 1em 0 0.5em; text-align: right; border: none;\">\n",
       "                        0.0174\n",
       "                        \n",
       "                    </td>\n",
       "                    <td style=\"padding: 0 0.5em 0 0.5em; text-align: left; border: none;\">\n",
       "                        intersection_count\n",
       "                    </td>\n",
       "                </tr>\n",
       "            \n",
       "                <tr style=\"background-color: hsl(120, 100.00%, 97.18%); border: none;\">\n",
       "                    <td style=\"padding: 0 1em 0 0.5em; text-align: right; border: none;\">\n",
       "                        0.0141\n",
       "                        \n",
       "                    </td>\n",
       "                    <td style=\"padding: 0 0.5em 0 0.5em; text-align: left; border: none;\">\n",
       "                        stem_chunigram_all_jaccard_max\n",
       "                    </td>\n",
       "                </tr>\n",
       "            \n",
       "                <tr style=\"background-color: hsl(120, 100.00%, 97.24%); border: none;\">\n",
       "                    <td style=\"padding: 0 1em 0 0.5em; text-align: right; border: none;\">\n",
       "                        0.0137\n",
       "                        \n",
       "                    </td>\n",
       "                    <td style=\"padding: 0 0.5em 0 0.5em; text-align: left; border: none;\">\n",
       "                        tfidf_wm\n",
       "                    </td>\n",
       "                </tr>\n",
       "            \n",
       "                <tr style=\"background-color: hsl(120, 100.00%, 97.39%); border: none;\">\n",
       "                    <td style=\"padding: 0 1em 0 0.5em; text-align: right; border: none;\">\n",
       "                        0.0126\n",
       "                        \n",
       "                    </td>\n",
       "                    <td style=\"padding: 0 0.5em 0 0.5em; text-align: left; border: none;\">\n",
       "                        max_degree\n",
       "                    </td>\n",
       "                </tr>\n",
       "            \n",
       "                <tr style=\"background-color: hsl(120, 100.00%, 97.78%); border: none;\">\n",
       "                    <td style=\"padding: 0 1em 0 0.5em; text-align: right; border: none;\">\n",
       "                        0.0100\n",
       "                        \n",
       "                    </td>\n",
       "                    <td style=\"padding: 0 0.5em 0 0.5em; text-align: left; border: none;\">\n",
       "                        min_degree\n",
       "                    </td>\n",
       "                </tr>\n",
       "            \n",
       "                <tr style=\"background-color: hsl(120, 100.00%, 97.89%); border: none;\">\n",
       "                    <td style=\"padding: 0 1em 0 0.5em; text-align: right; border: none;\">\n",
       "                        0.0093\n",
       "                        \n",
       "                    </td>\n",
       "                    <td style=\"padding: 0 0.5em 0 0.5em; text-align: left; border: none;\">\n",
       "                        stem_chtrigram_tfidf_l2_euclidean\n",
       "                    </td>\n",
       "                </tr>\n",
       "            \n",
       "                <tr style=\"background-color: hsl(120, 100.00%, 97.93%); border: none;\">\n",
       "                    <td style=\"padding: 0 1em 0 0.5em; text-align: right; border: none;\">\n",
       "                        0.0090\n",
       "                        \n",
       "                    </td>\n",
       "                    <td style=\"padding: 0 0.5em 0 0.5em; text-align: left; border: none;\">\n",
       "                        max_clustering_coef\n",
       "                    </td>\n",
       "                </tr>\n",
       "            \n",
       "                <tr style=\"background-color: hsl(120, 100.00%, 97.99%); border: none;\">\n",
       "                    <td style=\"padding: 0 1em 0 0.5em; text-align: right; border: none;\">\n",
       "                        0.0087\n",
       "                        \n",
       "                    </td>\n",
       "                    <td style=\"padding: 0 0.5em 0 0.5em; text-align: left; border: none;\">\n",
       "                        stem_chbigram_jaccard\n",
       "                    </td>\n",
       "                </tr>\n",
       "            \n",
       "                <tr style=\"background-color: hsl(120, 100.00%, 98.02%); border: none;\">\n",
       "                    <td style=\"padding: 0 1em 0 0.5em; text-align: right; border: none;\">\n",
       "                        0.0085\n",
       "                        \n",
       "                    </td>\n",
       "                    <td style=\"padding: 0 0.5em 0 0.5em; text-align: left; border: none;\">\n",
       "                        last_word\n",
       "                    </td>\n",
       "                </tr>\n",
       "            \n",
       "                <tr style=\"background-color: hsl(120, 100.00%, 98.31%); border: none;\">\n",
       "                    <td style=\"padding: 0 1em 0 0.5em; text-align: right; border: none;\">\n",
       "                        0.0068\n",
       "                        \n",
       "                    </td>\n",
       "                    <td style=\"padding: 0 0.5em 0 0.5em; text-align: left; border: none;\">\n",
       "                        min_clustering_coef\n",
       "                    </td>\n",
       "                </tr>\n",
       "            \n",
       "                <tr style=\"background-color: hsl(120, 100.00%, 98.34%); border: none;\">\n",
       "                    <td style=\"padding: 0 1em 0 0.5em; text-align: right; border: none;\">\n",
       "                        0.0066\n",
       "                        \n",
       "                    </td>\n",
       "                    <td style=\"padding: 0 0.5em 0 0.5em; text-align: left; border: none;\">\n",
       "                        m_q1_q2_tf_oof\n",
       "                    </td>\n",
       "                </tr>\n",
       "            \n",
       "                <tr style=\"background-color: hsl(120, 100.00%, 98.37%); border: none;\">\n",
       "                    <td style=\"padding: 0 1em 0 0.5em; text-align: right; border: none;\">\n",
       "                        0.0064\n",
       "                        \n",
       "                    </td>\n",
       "                    <td style=\"padding: 0 0.5em 0 0.5em; text-align: left; border: none;\">\n",
       "                        csim1\n",
       "                    </td>\n",
       "                </tr>\n",
       "            \n",
       "                <tr style=\"background-color: hsl(120, 100.00%, 98.41%); border: none;\">\n",
       "                    <td style=\"padding: 0 1em 0 0.5em; text-align: right; border: none;\">\n",
       "                        0.0062\n",
       "                        \n",
       "                    </td>\n",
       "                    <td style=\"padding: 0 0.5em 0 0.5em; text-align: left; border: none;\">\n",
       "                        q1_freq\n",
       "                    </td>\n",
       "                </tr>\n",
       "            \n",
       "                <tr style=\"background-color: hsl(120, 100.00%, 98.43%); border: none;\">\n",
       "                    <td style=\"padding: 0 1em 0 0.5em; text-align: right; border: none;\">\n",
       "                        0.0061\n",
       "                        \n",
       "                    </td>\n",
       "                    <td style=\"padding: 0 0.5em 0 0.5em; text-align: left; border: none;\">\n",
       "                        same_start\n",
       "                    </td>\n",
       "                </tr>\n",
       "            \n",
       "                <tr style=\"background-color: hsl(120, 100.00%, 98.44%); border: none;\">\n",
       "                    <td style=\"padding: 0 1em 0 0.5em; text-align: right; border: none;\">\n",
       "                        0.0061\n",
       "                        \n",
       "                    </td>\n",
       "                    <td style=\"padding: 0 0.5em 0 0.5em; text-align: left; border: none;\">\n",
       "                        kcore_max\n",
       "                    </td>\n",
       "                </tr>\n",
       "            \n",
       "                <tr style=\"background-color: hsl(120, 100.00%, 98.45%); border: none;\">\n",
       "                    <td style=\"padding: 0 1em 0 0.5em; text-align: right; border: none;\">\n",
       "                        0.0060\n",
       "                        \n",
       "                    </td>\n",
       "                    <td style=\"padding: 0 0.5em 0 0.5em; text-align: left; border: none;\">\n",
       "                        stem_chunigram_all_jaccard\n",
       "                    </td>\n",
       "                </tr>\n",
       "            \n",
       "                <tr style=\"background-color: hsl(120, 100.00%, 98.67%); border: none;\">\n",
       "                    <td style=\"padding: 0 1em 0 0.5em; text-align: right; border: none;\">\n",
       "                        0.0048\n",
       "                        \n",
       "                    </td>\n",
       "                    <td style=\"padding: 0 0.5em 0 0.5em; text-align: left; border: none;\">\n",
       "                        trigram_tfidf_l1_euclidean\n",
       "                    </td>\n",
       "                </tr>\n",
       "            \n",
       "                <tr style=\"background-color: hsl(120, 100.00%, 98.68%); border: none;\">\n",
       "                    <td style=\"padding: 0 1em 0 0.5em; text-align: right; border: none;\">\n",
       "                        0.0048\n",
       "                        \n",
       "                    </td>\n",
       "                    <td style=\"padding: 0 0.5em 0 0.5em; text-align: left; border: none;\">\n",
       "                        norm_wmd\n",
       "                    </td>\n",
       "                </tr>\n",
       "            \n",
       "                <tr style=\"background-color: hsl(120, 100.00%, 98.68%); border: none;\">\n",
       "                    <td style=\"padding: 0 1em 0 0.5em; text-align: right; border: none;\">\n",
       "                        0.0048\n",
       "                        \n",
       "                    </td>\n",
       "                    <td style=\"padding: 0 0.5em 0 0.5em; text-align: left; border: none;\">\n",
       "                        q1_kcores\n",
       "                    </td>\n",
       "                </tr>\n",
       "            \n",
       "                <tr style=\"background-color: hsl(120, 100.00%, 98.69%); border: none;\">\n",
       "                    <td style=\"padding: 0 1em 0 0.5em; text-align: right; border: none;\">\n",
       "                        0.0047\n",
       "                        \n",
       "                    </td>\n",
       "                    <td style=\"padding: 0 0.5em 0 0.5em; text-align: left; border: none;\">\n",
       "                        trigram_tfidf_cosine\n",
       "                    </td>\n",
       "                </tr>\n",
       "            \n",
       "                <tr style=\"background-color: hsl(120, 100.00%, 98.76%); border: none;\">\n",
       "                    <td style=\"padding: 0 1em 0 0.5em; text-align: right; border: none;\">\n",
       "                        0.0044\n",
       "                        \n",
       "                    </td>\n",
       "                    <td style=\"padding: 0 0.5em 0 0.5em; text-align: left; border: none;\">\n",
       "                        fuzz_token_set_ratio\n",
       "                    </td>\n",
       "                </tr>\n",
       "            \n",
       "                <tr style=\"background-color: hsl(120, 100.00%, 98.76%); border: none;\">\n",
       "                    <td style=\"padding: 0 1em 0 0.5em; text-align: right; border: none;\">\n",
       "                        0.0044\n",
       "                        \n",
       "                    </td>\n",
       "                    <td style=\"padding: 0 0.5em 0 0.5em; text-align: left; border: none;\">\n",
       "                        dld\n",
       "                    </td>\n",
       "                </tr>\n",
       "            \n",
       "                <tr style=\"background-color: hsl(120, 100.00%, 98.85%); border: none;\">\n",
       "                    <td style=\"padding: 0 1em 0 0.5em; text-align: right; border: none;\">\n",
       "                        0.0039\n",
       "                        \n",
       "                    </td>\n",
       "                    <td style=\"padding: 0 0.5em 0 0.5em; text-align: left; border: none;\">\n",
       "                        tfidf_wm_stops\n",
       "                    </td>\n",
       "                </tr>\n",
       "            \n",
       "                <tr style=\"background-color: hsl(120, 100.00%, 98.86%); border: none;\">\n",
       "                    <td style=\"padding: 0 1em 0 0.5em; text-align: right; border: none;\">\n",
       "                        0.0039\n",
       "                        \n",
       "                    </td>\n",
       "                    <td style=\"padding: 0 0.5em 0 0.5em; text-align: left; border: none;\">\n",
       "                        ent_max\n",
       "                    </td>\n",
       "                </tr>\n",
       "            \n",
       "                <tr style=\"background-color: hsl(120, 100.00%, 98.86%); border: none;\">\n",
       "                    <td style=\"padding: 0 1em 0 0.5em; text-align: right; border: none;\">\n",
       "                        0.0039\n",
       "                        \n",
       "                    </td>\n",
       "                    <td style=\"padding: 0 0.5em 0 0.5em; text-align: left; border: none;\">\n",
       "                        fuzz_token_sort_ratio\n",
       "                    </td>\n",
       "                </tr>\n",
       "            \n",
       "                <tr style=\"background-color: hsl(120, 100.00%, 98.86%); border: none;\">\n",
       "                    <td style=\"padding: 0 1em 0 0.5em; text-align: right; border: none;\">\n",
       "                        0.0039\n",
       "                        \n",
       "                    </td>\n",
       "                    <td style=\"padding: 0 0.5em 0 0.5em; text-align: left; border: none;\">\n",
       "                        trigram_tfidf_l2_euclidean\n",
       "                    </td>\n",
       "                </tr>\n",
       "            \n",
       "                <tr style=\"background-color: hsl(120, 100.00%, 98.91%); border: none;\">\n",
       "                    <td style=\"padding: 0 1em 0 0.5em; text-align: right; border: none;\">\n",
       "                        0.0036\n",
       "                        \n",
       "                    </td>\n",
       "                    <td style=\"padding: 0 0.5em 0 0.5em; text-align: left; border: none;\">\n",
       "                        ent_share\n",
       "                    </td>\n",
       "                </tr>\n",
       "            \n",
       "                <tr style=\"background-color: hsl(120, 100.00%, 98.96%); border: none;\">\n",
       "                    <td style=\"padding: 0 1em 0 0.5em; text-align: right; border: none;\">\n",
       "                        0.0034\n",
       "                        \n",
       "                    </td>\n",
       "                    <td style=\"padding: 0 0.5em 0 0.5em; text-align: left; border: none;\">\n",
       "                        q2_kcores\n",
       "                    </td>\n",
       "                </tr>\n",
       "            \n",
       "                <tr style=\"background-color: hsl(120, 100.00%, 99.00%); border: none;\">\n",
       "                    <td style=\"padding: 0 1em 0 0.5em; text-align: right; border: none;\">\n",
       "                        0.0032\n",
       "                        \n",
       "                    </td>\n",
       "                    <td style=\"padding: 0 0.5em 0 0.5em; text-align: left; border: none;\">\n",
       "                        m_vstack_svd_q1_q1_cosine\n",
       "                    </td>\n",
       "                </tr>\n",
       "            \n",
       "                <tr style=\"background-color: hsl(120, 100.00%, 99.01%); border: none;\">\n",
       "                    <td style=\"padding: 0 1em 0 0.5em; text-align: right; border: none;\">\n",
       "                        0.0032\n",
       "                        \n",
       "                    </td>\n",
       "                    <td style=\"padding: 0 0.5em 0 0.5em; text-align: left; border: none;\">\n",
       "                        q1_q2_kcores_ratio\n",
       "                    </td>\n",
       "                </tr>\n",
       "            \n",
       "                <tr style=\"background-color: hsl(120, 100.00%, 99.02%); border: none;\">\n",
       "                    <td style=\"padding: 0 1em 0 0.5em; text-align: right; border: none;\">\n",
       "                        0.0031\n",
       "                        \n",
       "                    </td>\n",
       "                    <td style=\"padding: 0 0.5em 0 0.5em; text-align: left; border: none;\">\n",
       "                        q1_q2_kcores_diff\n",
       "                    </td>\n",
       "                </tr>\n",
       "            \n",
       "                <tr style=\"background-color: hsl(120, 100.00%, 99.03%); border: none;\">\n",
       "                    <td style=\"padding: 0 1em 0 0.5em; text-align: right; border: none;\">\n",
       "                        0.0031\n",
       "                        \n",
       "                    </td>\n",
       "                    <td style=\"padding: 0 0.5em 0 0.5em; text-align: left; border: none;\">\n",
       "                        word_match_12\n",
       "                    </td>\n",
       "                </tr>\n",
       "            \n",
       "                <tr style=\"background-color: hsl(120, 100.00%, 99.04%); border: none;\">\n",
       "                    <td style=\"padding: 0 1em 0 0.5em; text-align: right; border: none;\">\n",
       "                        0.0030\n",
       "                        \n",
       "                    </td>\n",
       "                    <td style=\"padding: 0 0.5em 0 0.5em; text-align: left; border: none;\">\n",
       "                        stem_chtrigram_tfidf_cosine\n",
       "                    </td>\n",
       "                </tr>\n",
       "            \n",
       "                <tr style=\"background-color: hsl(120, 100.00%, 99.04%); border: none;\">\n",
       "                    <td style=\"padding: 0 1em 0 0.5em; text-align: right; border: none;\">\n",
       "                        0.0030\n",
       "                        \n",
       "                    </td>\n",
       "                    <td style=\"padding: 0 0.5em 0 0.5em; text-align: left; border: none;\">\n",
       "                        lv_def\n",
       "                    </td>\n",
       "                </tr>\n",
       "            \n",
       "                <tr style=\"background-color: hsl(120, 100.00%, 99.05%); border: none;\">\n",
       "                    <td style=\"padding: 0 1em 0 0.5em; text-align: right; border: none;\">\n",
       "                        0.0030\n",
       "                        \n",
       "                    </td>\n",
       "                    <td style=\"padding: 0 0.5em 0 0.5em; text-align: left; border: none;\">\n",
       "                        common_words\n",
       "                    </td>\n",
       "                </tr>\n",
       "            \n",
       "                <tr style=\"background-color: hsl(120, 100.00%, 99.05%); border: none;\">\n",
       "                    <td style=\"padding: 0 1em 0 0.5em; text-align: right; border: none;\">\n",
       "                        0.0030\n",
       "                        \n",
       "                    </td>\n",
       "                    <td style=\"padding: 0 0.5em 0 0.5em; text-align: left; border: none;\">\n",
       "                        q1_q2_kcores_diff_normed\n",
       "                    </td>\n",
       "                </tr>\n",
       "            \n",
       "                <tr style=\"background-color: hsl(120, 100.00%, 99.05%); border: none;\">\n",
       "                    <td style=\"padding: 0 1em 0 0.5em; text-align: right; border: none;\">\n",
       "                        0.0030\n",
       "                        \n",
       "                    </td>\n",
       "                    <td style=\"padding: 0 0.5em 0 0.5em; text-align: left; border: none;\">\n",
       "                        last2_words\n",
       "                    </td>\n",
       "                </tr>\n",
       "            \n",
       "                <tr style=\"background-color: hsl(120, 100.00%, 99.05%); border: none;\">\n",
       "                    <td style=\"padding: 0 1em 0 0.5em; text-align: right; border: none;\">\n",
       "                        0.0030\n",
       "                        \n",
       "                    </td>\n",
       "                    <td style=\"padding: 0 0.5em 0 0.5em; text-align: left; border: none;\">\n",
       "                        wc_diff_unq_stop\n",
       "                    </td>\n",
       "                </tr>\n",
       "            \n",
       "                <tr style=\"background-color: hsl(120, 100.00%, 99.06%); border: none;\">\n",
       "                    <td style=\"padding: 0 1em 0 0.5em; text-align: right; border: none;\">\n",
       "                        0.0029\n",
       "                        \n",
       "                    </td>\n",
       "                    <td style=\"padding: 0 0.5em 0 0.5em; text-align: left; border: none;\">\n",
       "                        m_vstack_svd_q1_q1_euclidean\n",
       "                    </td>\n",
       "                </tr>\n",
       "            \n",
       "                <tr style=\"background-color: hsl(120, 100.00%, 99.07%); border: none;\">\n",
       "                    <td style=\"padding: 0 1em 0 0.5em; text-align: right; border: none;\">\n",
       "                        0.0029\n",
       "                        \n",
       "                    </td>\n",
       "                    <td style=\"padding: 0 0.5em 0 0.5em; text-align: left; border: none;\">\n",
       "                        word_match_st\n",
       "                    </td>\n",
       "                </tr>\n",
       "            \n",
       "                <tr style=\"background-color: hsl(120, 100.00%, 99.13%); border: none;\">\n",
       "                    <td style=\"padding: 0 1em 0 0.5em; text-align: right; border: none;\">\n",
       "                        0.0026\n",
       "                        \n",
       "                    </td>\n",
       "                    <td style=\"padding: 0 0.5em 0 0.5em; text-align: left; border: none;\">\n",
       "                        q2_pr\n",
       "                    </td>\n",
       "                </tr>\n",
       "            \n",
       "                <tr style=\"background-color: hsl(120, 100.00%, 99.13%); border: none;\">\n",
       "                    <td style=\"padding: 0 1em 0 0.5em; text-align: right; border: none;\">\n",
       "                        0.0026\n",
       "                        \n",
       "                    </td>\n",
       "                    <td style=\"padding: 0 0.5em 0 0.5em; text-align: left; border: none;\">\n",
       "                        q1_pr\n",
       "                    </td>\n",
       "                </tr>\n",
       "            \n",
       "                <tr style=\"background-color: hsl(120, 100.00%, 99.16%); border: none;\">\n",
       "                    <td style=\"padding: 0 1em 0 0.5em; text-align: right; border: none;\">\n",
       "                        0.0025\n",
       "                        \n",
       "                    </td>\n",
       "                    <td style=\"padding: 0 0.5em 0 0.5em; text-align: left; border: none;\">\n",
       "                        jaccard\n",
       "                    </td>\n",
       "                </tr>\n",
       "            \n",
       "                <tr style=\"background-color: hsl(120, 100.00%, 99.17%); border: none;\">\n",
       "                    <td style=\"padding: 0 1em 0 0.5em; text-align: right; border: none;\">\n",
       "                        0.0025\n",
       "                        \n",
       "                    </td>\n",
       "                    <td style=\"padding: 0 0.5em 0 0.5em; text-align: left; border: none;\">\n",
       "                        euclidean_distance\n",
       "                    </td>\n",
       "                </tr>\n",
       "            \n",
       "                <tr style=\"background-color: hsl(120, 100.00%, 99.17%); border: none;\">\n",
       "                    <td style=\"padding: 0 1em 0 0.5em; text-align: right; border: none;\">\n",
       "                        0.0024\n",
       "                        \n",
       "                    </td>\n",
       "                    <td style=\"padding: 0 0.5em 0 0.5em; text-align: left; border: none;\">\n",
       "                        bigram_jaccard\n",
       "                    </td>\n",
       "                </tr>\n",
       "            \n",
       "            \n",
       "                \n",
       "                    <tr style=\"background-color: hsl(120, 100.00%, 99.17%); border: none;\">\n",
       "                        <td colspan=\"2\" style=\"padding: 0 0.5em 0 0.5em; text-align: center; border: none; white-space: nowrap;\">\n",
       "                            <i>&hellip; 121 more &hellip;</i>\n",
       "                        </td>\n",
       "                    </tr>\n",
       "                \n",
       "            \n",
       "            </tbody>\n",
       "        </table>\n",
       "    \n",
       "\n",
       "    \n",
       "\n",
       "\n",
       "    \n",
       "\n",
       "    \n",
       "\n",
       "    \n",
       "\n",
       "    \n",
       "\n",
       "    \n",
       "\n",
       "    \n",
       "\n",
       "\n",
       "\n"
      ],
      "text/plain": [
       "Explanation(estimator='<xgboost.core.Booster object at 0x7efae506cb00>', description='\\nXGBoost feature importances; values are numbers 0 <= x <= 1;\\nall values sum to 1.\\n', error=None, method='feature importances', is_regression=None, targets=None, feature_importances=FeatureImportances(importances=[FeatureWeight(feature='devil_cos', weight=0.23134819, std=None, value=None), FeatureWeight(feature='q1_q2_intersect', weight=0.098721012, std=None, value=None), FeatureWeight(feature='devil_jaccard', weight=0.097406387, std=None, value=None), FeatureWeight(feature='word_match', weight=0.094280131, std=None, value=None), FeatureWeight(feature='kcore_min', weight=0.027471181, std=None, value=None), FeatureWeight(feature='intersection_count', weight=0.017425286, std=None, value=None), FeatureWeight(feature='stem_chunigram_all_jaccard_max', weight=0.014114239, std=None, value=None), FeatureWeight(feature='tfidf_wm', weight=0.013659609, std=None, value=None), FeatureWeight(feature='max_degree', weight=0.012607498, std=None, value=None), FeatureWeight(feature='min_degree', weight=0.0099888165, std=None, value=None), FeatureWeight(feature='stem_chtrigram_tfidf_l2_euclidean', weight=0.0092875892, std=None, value=None), FeatureWeight(feature='max_clustering_coef', weight=0.0090469494, std=None, value=None), FeatureWeight(feature='stem_chbigram_jaccard', weight=0.0086840354, std=None, value=None), FeatureWeight(feature='last_word', weight=0.0084952172, std=None, value=None), FeatureWeight(feature='min_clustering_coef', weight=0.0067746602, std=None, value=None), FeatureWeight(feature='m_q1_q2_tf_oof', weight=0.0065811127, std=None, value=None), FeatureWeight(feature='csim1', weight=0.0064329314, std=None, value=None), FeatureWeight(feature='q1_freq', weight=0.0061918865, std=None, value=None), FeatureWeight(feature='same_start', weight=0.0061282404, std=None, value=None), FeatureWeight(feature='kcore_max', weight=0.0060601034, std=None, value=None), FeatureWeight(feature='stem_chunigram_all_jaccard', weight=0.0060013528, std=None, value=None), FeatureWeight(feature='trigram_tfidf_l1_euclidean', weight=0.004810534, std=None, value=None), FeatureWeight(feature='norm_wmd', weight=0.004758894, std=None, value=None), FeatureWeight(feature='q1_kcores', weight=0.0047577093, std=None, value=None), FeatureWeight(feature='trigram_tfidf_cosine', weight=0.0047354223, std=None, value=None), FeatureWeight(feature='fuzz_token_set_ratio', weight=0.0043726624, std=None, value=None), FeatureWeight(feature='dld', weight=0.0043528192, std=None, value=None), FeatureWeight(feature='tfidf_wm_stops', weight=0.0039179865, std=None, value=None), FeatureWeight(feature='ent_max', weight=0.0038813087, std=None, value=None), FeatureWeight(feature='fuzz_token_sort_ratio', weight=0.003862103, std=None, value=None), FeatureWeight(feature='trigram_tfidf_l2_euclidean', weight=0.0038618781, std=None, value=None), FeatureWeight(feature='ent_share', weight=0.0036182329, std=None, value=None), FeatureWeight(feature='q2_kcores', weight=0.0034014066, std=None, value=None), FeatureWeight(feature='m_vstack_svd_q1_q1_cosine', weight=0.0031849626, std=None, value=None), FeatureWeight(feature='q1_q2_kcores_ratio', weight=0.0031528613, std=None, value=None), FeatureWeight(feature='q1_q2_kcores_diff', weight=0.0031081203, std=None, value=None), FeatureWeight(feature='word_match_12', weight=0.0030637702, std=None, value=None), FeatureWeight(feature='stem_chtrigram_tfidf_cosine', weight=0.0030106225, std=None, value=None), FeatureWeight(feature='lv_def', weight=0.0030012627, std=None, value=None), FeatureWeight(feature='common_words', weight=0.0029896046, std=None, value=None), FeatureWeight(feature='q1_q2_kcores_diff_normed', weight=0.0029852942, std=None, value=None), FeatureWeight(feature='last2_words', weight=0.0029698825, std=None, value=None), FeatureWeight(feature='wc_diff_unq_stop', weight=0.0029618181, std=None, value=None), FeatureWeight(feature='m_vstack_svd_q1_q1_euclidean', weight=0.0029322365, std=None, value=None), FeatureWeight(feature='word_match_st', weight=0.0028967264, std=None, value=None), FeatureWeight(feature='q2_pr', weight=0.0026390902, std=None, value=None), FeatureWeight(feature='q1_pr', weight=0.0026060119, std=None, value=None), FeatureWeight(feature='jaccard', weight=0.0024965645, std=None, value=None), FeatureWeight(feature='euclidean_distance', weight=0.0024543637, std=None, value=None), FeatureWeight(feature='bigram_jaccard', weight=0.0024494915, std=None, value=None)], remaining=121), decision_tree=None, highlight_spaces=None, transition_features=None)"
      ]
     },
     "execution_count": 288,
     "metadata": {},
     "output_type": "execute_result"
    }
   ],
   "source": [
    "eli5.explain_weights_xgboost(bst, top=50)"
   ]
  },
  {
   "cell_type": "markdown",
   "metadata": {},
   "source": [
    "Test model"
   ]
  },
  {
   "cell_type": "code",
   "execution_count": 289,
   "metadata": {},
   "outputs": [],
   "source": [
    "p_test = bst.predict(d_test)\n",
    "sub = pd.DataFrame()\n",
    "sub['test_id'] = df_test['test_id']\n",
    "sub['is_duplicate'] = fix_prob(p_test)\n",
    "sub.to_csv('predictions/{:.5f}_py3_wo_sampling_fixed_5000iter_devilFixed_pr_ek2_lda_params_meph_lastwords_stemmeph_stemwordmeph_kcores_early100_rest.csv'.format(log_loss, index=False)"
   ]
  },
  {
   "cell_type": "code",
   "execution_count": null,
   "metadata": {
    "collapsed": true
   },
   "outputs": [],
   "source": [
    ""
   ]
  }
 ],
 "metadata": {
  "kernelspec": {
   "display_name": "Python 3",
   "language": "python",
   "name": "python3"
  },
  "language_info": {
   "codemirror_mode": {
    "name": "ipython",
    "version": 3.0
   },
   "file_extension": ".py",
   "mimetype": "text/x-python",
   "name": "python",
   "nbconvert_exporter": "python",
   "pygments_lexer": "ipython3",
   "version": "3.5.2"
  }
 },
 "nbformat": 4,
 "nbformat_minor": 0
}