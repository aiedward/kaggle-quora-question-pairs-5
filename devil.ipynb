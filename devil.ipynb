{
 "cells": [
  {
   "cell_type": "code",
   "execution_count": 1,
   "metadata": {
    "collapsed": true
   },
   "outputs": [],
   "source": [
    "import pandas as pd\n",
    "import numpy as np\n",
    "\n",
    "df_train = pd.read_csv('data/train.csv', \n",
    "                       dtype={\n",
    "                           'question1': np.str,\n",
    "                           'question2': np.str\n",
    "                       })\n",
    "df_test = pd.read_csv('data/test.csv', \n",
    "                      dtype={\n",
    "                          'question1': np.str,\n",
    "                          'question2': np.str\n",
    "                      })\n",
    "df_train = df_train.fillna(' ')\n",
    "df_test = df_test.fillna(' ')"
   ]
  },
  {
   "cell_type": "code",
   "execution_count": 2,
   "metadata": {
    "collapsed": true
   },
   "outputs": [],
   "source": [
    "qs = set(df_train['question1']) | set(df_train['question2']) | set(df_test['question1']) | set(df_test['question2'])\n",
    "qs = list(qs)\n",
    "q2id = dict(zip(qs, range(len(qs))))"
   ]
  },
  {
   "cell_type": "code",
   "execution_count": 3,
   "metadata": {
    "collapsed": true
   },
   "outputs": [],
   "source": [
    "df_train['qid1'] = df_train['question1'].apply(q2id.get)\n",
    "df_train['qid2'] = df_train['question2'].apply(q2id.get)\n",
    "df_test['qid1'] = df_test['question1'].apply(q2id.get)\n",
    "df_test['qid2'] = df_test['question2'].apply(q2id.get)"
   ]
  },
  {
   "cell_type": "code",
   "execution_count": 4,
   "metadata": {
    "collapsed": true
   },
   "outputs": [],
   "source": [
    "from scipy.sparse import coo_matrix, csr_matrix\n",
    "\n",
    "m = coo_matrix((np.ones(2 * (df_train.shape[0] + df_test.shape[0])),\n",
    "                (pd.concat((df_train['qid1'], df_test['qid1'], df_train['qid2'], df_test['qid2']), axis=0).values,\n",
    "                 pd.concat((df_train['qid2'], df_test['qid2'], df_train['qid1'], df_test['qid1']), axis=0).values)),\n",
    "               shape=(len(qs), len(qs)))\n",
    "m = csr_matrix(m)"
   ]
  },
  {
   "cell_type": "raw",
   "metadata": {},
   "source": [
    "%%time\n",
    "from sklearn.metrics.pairwise import pairwise_distances\n",
    "\n",
    "dists = []\n",
    "for qid1, qid2 in df_train[['qid1', 'qid2']].values:\n",
    "    dists.append(pairwise_distances(m[qid1], m[qid2], metric='euclidean', n_jobs=1))"
   ]
  },
  {
   "cell_type": "code",
   "execution_count": 5,
   "metadata": {
    "collapsed": true
   },
   "outputs": [],
   "source": [
    "from sklearn.preprocessing import normalize\n",
    "\n",
    "def cosine_similarities(mat):\n",
    "    col_normed_mat = normalize(mat.tocsc(), axis=0)\n",
    "    return col_normed_mat.T * col_normed_mat\n",
    "\n",
    "def jaccard_similarities(mat):\n",
    "    cols_sum = mat.getnnz(axis=0)\n",
    "    ab = mat.T * mat\n",
    "\n",
    "    # for rows\n",
    "    aa = np.repeat(cols_sum, ab.getnnz(axis=0))\n",
    "    # for columns\n",
    "    bb = cols_sum[ab.indices]\n",
    "\n",
    "    similarities = ab.copy()\n",
    "    similarities.data /= (aa + bb - ab.data)\n",
    "\n",
    "    return similarities"
   ]
  },
  {
   "cell_type": "code",
   "execution_count": 6,
   "metadata": {},
   "outputs": [
    {
     "name": "stdout",
     "output_type": "stream",
     "text": [
      "CPU times: user 3.99 s, sys: 256 ms, total: 4.24 s\n",
      "Wall time: 4.28 s\n"
     ]
    },
    {
     "name": "stderr",
     "output_type": "stream",
     "text": [
      "/home/ilivans/.virtualenvs/cmn3/lib/python3.5/site-packages/ipykernel_launcher.py:17: RuntimeWarning: divide by zero encountered in true_divide\n"
     ]
    }
   ],
   "source": [
    "%%time\n",
    "m_cos = cosine_similarities(m)\n",
    "m_jac = jaccard_similarities(m)"
   ]
  },
  {
   "cell_type": "code",
   "execution_count": 7,
   "metadata": {
    "collapsed": true
   },
   "outputs": [],
   "source": [
    "m_cos = m_cos.todok()\n",
    "m_jac = m_jac.todok()"
   ]
  },
  {
   "cell_type": "code",
   "execution_count": 8,
   "metadata": {},
   "outputs": [
    {
     "name": "stdout",
     "output_type": "stream",
     "text": [
      "CPU times: user 3min 22s, sys: 316 ms, total: 3min 23s\n",
      "Wall time: 3min 23s\n"
     ]
    }
   ],
   "source": [
    "%%time\n",
    "def devil_cos(row):\n",
    "    return m_cos[row['qid1'], row['qid2']]\n",
    "\n",
    "def devil_jaccard(row):\n",
    "    return m_jac[row['qid1'], row['qid2']]\n",
    "\n",
    "df_train['devil_cos'] = df_train.apply(devil_cos, axis=1, raw=True)\n",
    "df_train['devil_jaccard'] = df_train.apply(devil_jaccard, axis=1, raw=True)\n",
    "df_test['devil_cos'] = df_test.apply(devil_cos, axis=1, raw=True)\n",
    "df_test['devil_jaccard'] = df_test.apply(devil_jaccard, axis=1, raw=True)"
   ]
  },
  {
   "cell_type": "code",
   "execution_count": 9,
   "metadata": {
    "collapsed": true
   },
   "outputs": [],
   "source": [
    "df_train[['devil_cos', 'devil_jaccard']].to_csv(\"data/train_devil.csv\", index=False)\n",
    "df_test[['devil_cos', 'devil_jaccard']].to_csv(\"data/test_devil.csv\", index=False)"
   ]
  },
  {
   "cell_type": "code",
   "execution_count": 10,
   "metadata": {},
   "outputs": [
    {
     "data": {
      "text/plain": [
       "112162"
      ]
     },
     "execution_count": 10,
     "metadata": {},
     "output_type": "execute_result"
    }
   ],
   "source": [
    "inter = (set(df_train['question1']) | set(df_train['question2'])) & (set(df_test['question1']) | set(df_test['question2']))\n",
    "len(inter)"
   ]
  },
  {
   "cell_type": "code",
   "execution_count": null,
   "metadata": {
    "collapsed": true
   },
   "outputs": [],
   "source": [
    ""
   ]
  }
 ],
 "metadata": {
  "kernelspec": {
   "display_name": "Python 3",
   "language": "python",
   "name": "python3"
  },
  "language_info": {
   "codemirror_mode": {
    "name": "ipython",
    "version": 3.0
   },
   "file_extension": ".py",
   "mimetype": "text/x-python",
   "name": "python",
   "nbconvert_exporter": "python",
   "pygments_lexer": "ipython3",
   "version": "3.5.2"
  }
 },
 "nbformat": 4,
 "nbformat_minor": 0
}